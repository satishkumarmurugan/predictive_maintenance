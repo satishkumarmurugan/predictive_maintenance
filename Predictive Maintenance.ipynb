{
 "cells": [
  {
   "cell_type": "code",
   "execution_count": 58,
   "id": "e9ac6144",
   "metadata": {},
   "outputs": [],
   "source": [
    "import warnings\n",
    "warnings.filterwarnings(\"ignore\")\n",
    "import pandas as pd\n",
    "df=pd.read_csv(\"predictive_maintenance.csv\")"
   ]
  },
  {
   "cell_type": "code",
   "execution_count": 59,
   "id": "d9bd3a86",
   "metadata": {},
   "outputs": [
    {
     "data": {
      "text/plain": [
       "(10000, 10)"
      ]
     },
     "execution_count": 59,
     "metadata": {},
     "output_type": "execute_result"
    }
   ],
   "source": [
    "df.shape"
   ]
  },
  {
   "cell_type": "code",
   "execution_count": 60,
   "id": "1ac2f438",
   "metadata": {},
   "outputs": [
    {
     "data": {
      "text/html": [
       "<div>\n",
       "<style scoped>\n",
       "    .dataframe tbody tr th:only-of-type {\n",
       "        vertical-align: middle;\n",
       "    }\n",
       "\n",
       "    .dataframe tbody tr th {\n",
       "        vertical-align: top;\n",
       "    }\n",
       "\n",
       "    .dataframe thead th {\n",
       "        text-align: right;\n",
       "    }\n",
       "</style>\n",
       "<table border=\"1\" class=\"dataframe\">\n",
       "  <thead>\n",
       "    <tr style=\"text-align: right;\">\n",
       "      <th></th>\n",
       "      <th>UDI</th>\n",
       "      <th>Air temperature [K]</th>\n",
       "      <th>Process temperature [K]</th>\n",
       "      <th>Rotational speed [rpm]</th>\n",
       "      <th>Torque [Nm]</th>\n",
       "      <th>Tool wear [min]</th>\n",
       "      <th>Fail</th>\n",
       "    </tr>\n",
       "  </thead>\n",
       "  <tbody>\n",
       "    <tr>\n",
       "      <th>count</th>\n",
       "      <td>10000.00000</td>\n",
       "      <td>10000.000000</td>\n",
       "      <td>10000.000000</td>\n",
       "      <td>10000.000000</td>\n",
       "      <td>10000.000000</td>\n",
       "      <td>10000.000000</td>\n",
       "      <td>10000.000000</td>\n",
       "    </tr>\n",
       "    <tr>\n",
       "      <th>mean</th>\n",
       "      <td>5000.50000</td>\n",
       "      <td>300.004930</td>\n",
       "      <td>310.005560</td>\n",
       "      <td>1538.776100</td>\n",
       "      <td>39.986910</td>\n",
       "      <td>107.951000</td>\n",
       "      <td>0.033900</td>\n",
       "    </tr>\n",
       "    <tr>\n",
       "      <th>std</th>\n",
       "      <td>2886.89568</td>\n",
       "      <td>2.000259</td>\n",
       "      <td>1.483734</td>\n",
       "      <td>179.284096</td>\n",
       "      <td>9.968934</td>\n",
       "      <td>63.654147</td>\n",
       "      <td>0.180981</td>\n",
       "    </tr>\n",
       "    <tr>\n",
       "      <th>min</th>\n",
       "      <td>1.00000</td>\n",
       "      <td>295.300000</td>\n",
       "      <td>305.700000</td>\n",
       "      <td>1168.000000</td>\n",
       "      <td>3.800000</td>\n",
       "      <td>0.000000</td>\n",
       "      <td>0.000000</td>\n",
       "    </tr>\n",
       "    <tr>\n",
       "      <th>25%</th>\n",
       "      <td>2500.75000</td>\n",
       "      <td>298.300000</td>\n",
       "      <td>308.800000</td>\n",
       "      <td>1423.000000</td>\n",
       "      <td>33.200000</td>\n",
       "      <td>53.000000</td>\n",
       "      <td>0.000000</td>\n",
       "    </tr>\n",
       "    <tr>\n",
       "      <th>50%</th>\n",
       "      <td>5000.50000</td>\n",
       "      <td>300.100000</td>\n",
       "      <td>310.100000</td>\n",
       "      <td>1503.000000</td>\n",
       "      <td>40.100000</td>\n",
       "      <td>108.000000</td>\n",
       "      <td>0.000000</td>\n",
       "    </tr>\n",
       "    <tr>\n",
       "      <th>75%</th>\n",
       "      <td>7500.25000</td>\n",
       "      <td>301.500000</td>\n",
       "      <td>311.100000</td>\n",
       "      <td>1612.000000</td>\n",
       "      <td>46.800000</td>\n",
       "      <td>162.000000</td>\n",
       "      <td>0.000000</td>\n",
       "    </tr>\n",
       "    <tr>\n",
       "      <th>max</th>\n",
       "      <td>10000.00000</td>\n",
       "      <td>304.500000</td>\n",
       "      <td>313.800000</td>\n",
       "      <td>2886.000000</td>\n",
       "      <td>76.600000</td>\n",
       "      <td>253.000000</td>\n",
       "      <td>1.000000</td>\n",
       "    </tr>\n",
       "  </tbody>\n",
       "</table>\n",
       "</div>"
      ],
      "text/plain": [
       "               UDI  Air temperature [K]  Process temperature [K]  \\\n",
       "count  10000.00000         10000.000000             10000.000000   \n",
       "mean    5000.50000           300.004930               310.005560   \n",
       "std     2886.89568             2.000259                 1.483734   \n",
       "min        1.00000           295.300000               305.700000   \n",
       "25%     2500.75000           298.300000               308.800000   \n",
       "50%     5000.50000           300.100000               310.100000   \n",
       "75%     7500.25000           301.500000               311.100000   \n",
       "max    10000.00000           304.500000               313.800000   \n",
       "\n",
       "       Rotational speed [rpm]   Torque [Nm]  Tool wear [min]          Fail  \n",
       "count            10000.000000  10000.000000     10000.000000  10000.000000  \n",
       "mean              1538.776100     39.986910       107.951000      0.033900  \n",
       "std                179.284096      9.968934        63.654147      0.180981  \n",
       "min               1168.000000      3.800000         0.000000      0.000000  \n",
       "25%               1423.000000     33.200000        53.000000      0.000000  \n",
       "50%               1503.000000     40.100000       108.000000      0.000000  \n",
       "75%               1612.000000     46.800000       162.000000      0.000000  \n",
       "max               2886.000000     76.600000       253.000000      1.000000  "
      ]
     },
     "execution_count": 60,
     "metadata": {},
     "output_type": "execute_result"
    }
   ],
   "source": [
    "df.describe()"
   ]
  },
  {
   "cell_type": "code",
   "execution_count": 61,
   "id": "0c64a763",
   "metadata": {},
   "outputs": [
    {
     "name": "stdout",
     "output_type": "stream",
     "text": [
      "<class 'pandas.core.frame.DataFrame'>\n",
      "RangeIndex: 10000 entries, 0 to 9999\n",
      "Data columns (total 10 columns):\n",
      " #   Column                   Non-Null Count  Dtype  \n",
      "---  ------                   --------------  -----  \n",
      " 0   UDI                      10000 non-null  int64  \n",
      " 1   Product ID               10000 non-null  object \n",
      " 2   Type                     10000 non-null  object \n",
      " 3   Air temperature [K]      10000 non-null  float64\n",
      " 4   Process temperature [K]  10000 non-null  float64\n",
      " 5   Rotational speed [rpm]   10000 non-null  int64  \n",
      " 6   Torque [Nm]              10000 non-null  float64\n",
      " 7   Tool wear [min]          10000 non-null  int64  \n",
      " 8   Fail                     10000 non-null  int64  \n",
      " 9   Failure Type             10000 non-null  object \n",
      "dtypes: float64(3), int64(4), object(3)\n",
      "memory usage: 781.4+ KB\n"
     ]
    }
   ],
   "source": [
    "df.info()"
   ]
  },
  {
   "cell_type": "code",
   "execution_count": 62,
   "id": "eadaa5d3",
   "metadata": {},
   "outputs": [],
   "source": [
    "import pandas as pd\n",
    "from sklearn.model_selection import train_test_split\n",
    "from sklearn.preprocessing import LabelEncoder\n",
    "from sklearn.metrics import accuracy_score\n",
    "\n",
    "\n",
    "# Features\n",
    "X = df[['Air temperature [K]', 'Process temperature [K]', 'Rotational speed [rpm]', 'Torque [Nm]', 'Tool wear [min]']]\n",
    "\n",
    "y_target = df['Fail']\n",
    "label_encoder_target = LabelEncoder()\n",
    "y_target_encoded = label_encoder_target.fit_transform(y_target)\n",
    "\n",
    "# Second target: 'Failure Type'\n",
    "y_failure_type = df['Failure Type']\n",
    "label_encoder_failure = LabelEncoder()\n",
    "y_failure_type_encoded = label_encoder_failure.fit_transform(y_failure_type)\n",
    "\n",
    "# Split dataset into training and test set for 'Target'\n",
    "X_train_target, X_test_target, y_train_target, y_test_target = train_test_split(X, y_target_encoded, test_size=0.2, random_state=42)\n"
   ]
  },
  {
   "cell_type": "code",
   "execution_count": 63,
   "id": "136fad44",
   "metadata": {},
   "outputs": [
    {
     "name": "stdout",
     "output_type": "stream",
     "text": [
      "Decision Tree Accuracy for Target: 0.9795\n",
      "Decision Tree Accuracy for Failure Type: 0.9715\n"
     ]
    }
   ],
   "source": [
    "from sklearn.tree import DecisionTreeClassifier\n",
    "\n",
    "# Train Decision Tree for 'Target'\n",
    "dt_clf_target = DecisionTreeClassifier(random_state=42)\n",
    "dt_clf_target.fit(X_train_target, y_train_target)\n",
    "dt_predictions_target = dt_clf_target.predict(X_test_target)\n",
    "print(\"Decision Tree Accuracy for Target:\", accuracy_score(y_test_target, dt_predictions_target))\n",
    "\n",
    "# Split dataset for 'Failure Type'\n",
    "X_train_failure, X_test_failure, y_train_failure, y_test_failure = train_test_split(X, y_failure_type_encoded, test_size=0.2, random_state=42)\n",
    "\n",
    "# Train Decision Tree for 'Failure Type'\n",
    "dt_clf_failure = DecisionTreeClassifier(random_state=42)\n",
    "dt_clf_failure.fit(X_train_failure, y_train_failure)\n",
    "dt_predictions_failure = dt_clf_failure.predict(X_test_failure)\n",
    "print(\"Decision Tree Accuracy for Failure Type:\", accuracy_score(y_test_failure, dt_predictions_failure))\n"
   ]
  },
  {
   "cell_type": "code",
   "execution_count": 64,
   "id": "0541de5b",
   "metadata": {},
   "outputs": [
    {
     "name": "stdout",
     "output_type": "stream",
     "text": [
      "Random Forest Accuracy for Target: 0.9835\n",
      "Random Forest Accuracy for Failure Type: 0.982\n"
     ]
    }
   ],
   "source": [
    "from sklearn.ensemble import RandomForestClassifier\n",
    "\n",
    "# Train Random Forest for 'Target'\n",
    "rf_clf_target = RandomForestClassifier(random_state=42)\n",
    "rf_clf_target.fit(X_train_target, y_train_target)\n",
    "rf_predictions_target = rf_clf_target.predict(X_test_target)\n",
    "print(\"Random Forest Accuracy for Target:\", accuracy_score(y_test_target, rf_predictions_target))\n",
    "\n",
    "# Train Random Forest for 'Failure Type'\n",
    "rf_clf_failure = RandomForestClassifier(random_state=42)\n",
    "rf_clf_failure.fit(X_train_failure, y_train_failure)\n",
    "rf_predictions_failure = rf_clf_failure.predict(X_test_failure)\n",
    "print(\"Random Forest Accuracy for Failure Type:\", accuracy_score(y_test_failure, rf_predictions_failure))\n"
   ]
  },
  {
   "cell_type": "code",
   "execution_count": 65,
   "id": "583ff267",
   "metadata": {},
   "outputs": [
    {
     "name": "stdout",
     "output_type": "stream",
     "text": [
      "Predicted Target: 1\n",
      "Predicted Failure Type: Heat Dissipation Failure\n"
     ]
    }
   ],
   "source": [
    "new_observation = [[300.8,309.4,1342,62.4,113]]\n",
    "new_observation_array = np.array(new_observation)\n",
    "\n",
    "prediction_target = rf_clf_target.predict(new_observation)\n",
    "predicted_label_target = label_encoder_target.inverse_transform(prediction_target)\n",
    "print(\"Predicted Target:\", predicted_label_target[0])\n",
    "\n",
    "# Predict \"Failure Type\"\n",
    "prediction_failure = rf_clf_failure.predict(new_observation)\n",
    "predicted_label_failure = label_encoder_failure.inverse_transform(prediction_failure)\n",
    "print(\"Predicted Failure Type:\", predicted_label_failure[0])"
   ]
  },
  {
   "cell_type": "code",
   "execution_count": 66,
   "id": "0a652a20",
   "metadata": {},
   "outputs": [
    {
     "name": "stdout",
     "output_type": "stream",
     "text": [
      "Predicted Target: 0\n",
      "Predicted Failure Type: No Failure\n"
     ]
    }
   ],
   "source": [
    "new_observation = [[298.5, 309.1, 1500, 40.0, 100]]\n",
    "\n",
    "# Assuming the above model and label encoder setup, predict \"Target\"\n",
    "prediction_target = rf_clf_target.predict(new_observation)\n",
    "predicted_label_target = label_encoder_target.inverse_transform(prediction_target)\n",
    "print(\"Predicted Target:\", predicted_label_target[0])\n",
    "\n",
    "# Predict \"Failure Type\"\n",
    "prediction_failure = rf_clf_failure.predict(new_observation)\n",
    "predicted_label_failure = label_encoder_failure.inverse_transform(prediction_failure)\n",
    "print(\"Predicted Failure Type:\", predicted_label_failure[0])"
   ]
  },
  {
   "cell_type": "code",
   "execution_count": null,
   "id": "c5c9fe47",
   "metadata": {},
   "outputs": [],
   "source": []
  },
  {
   "cell_type": "code",
   "execution_count": null,
   "id": "da9df6f4",
   "metadata": {},
   "outputs": [],
   "source": []
  },
  {
   "cell_type": "code",
   "execution_count": null,
   "id": "6dd1f1ca",
   "metadata": {},
   "outputs": [],
   "source": []
  }
 ],
 "metadata": {
  "kernelspec": {
   "display_name": "Python 3 (ipykernel)",
   "language": "python",
   "name": "python3"
  },
  "language_info": {
   "codemirror_mode": {
    "name": "ipython",
    "version": 3
   },
   "file_extension": ".py",
   "mimetype": "text/x-python",
   "name": "python",
   "nbconvert_exporter": "python",
   "pygments_lexer": "ipython3",
   "version": "3.11.3"
  }
 },
 "nbformat": 4,
 "nbformat_minor": 5
}
